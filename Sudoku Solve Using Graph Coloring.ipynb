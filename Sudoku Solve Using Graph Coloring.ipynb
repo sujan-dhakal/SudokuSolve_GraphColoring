{
 "cells": [
  {
   "cell_type": "markdown",
   "id": "0bf92f52",
   "metadata": {},
   "source": [
    "# Solving Sudoku Using Graph Coloring"
   ]
  },
  {
   "cell_type": "code",
   "execution_count": 2,
   "id": "0b77494d",
   "metadata": {},
   "outputs": [
    {
     "name": "stdout",
     "output_type": "stream",
     "text": [
      "\n",
      "Solved Sudoku\n",
      "[1, 2, 3, 4, 5, 6, 7, 8, 9]\n",
      "[4, 5, 6, 7, 8, 9, 1, 2, 3]\n",
      "[7, 8, 9, 1, 2, 3, 4, 5, 6]\n",
      "[2, 3, 1, 6, 7, 4, 8, 9, 5]\n",
      "[8, 7, 5, 9, 1, 2, 3, 6, 4]\n",
      "[6, 9, 4, 5, 3, 8, 2, 1, 7]\n",
      "[3, 1, 7, 2, 6, 5, 9, 4, 8]\n",
      "[5, 4, 2, 8, 9, 7, 6, 3, 1]\n",
      "[9, 6, 8, 3, 4, 1, 5, 7, 2]\n"
     ]
    }
   ],
   "source": [
    "import networkx as nx\n",
    "\n",
    "G = nx.Graph()\n",
    "\n",
    "# add nodes of the graph\n",
    "for i in range(9):\n",
    "    for j in range(9):\n",
    "        G.add_node((i,j))\n",
    "\n",
    "## add edges of the graph, row & col operations\n",
    "for (i,j) in G.nodes():\n",
    "    for k in range(9):\n",
    "        if ((i,j) != (i,k)):\n",
    "            G.add_edge((i,j), (i,k))\n",
    "        if ((i,j) != (k,j)):\n",
    "            G.add_edge((i,j), (k,j))\n",
    "            \n",
    "## add edges from subgrid of the graph\n",
    "for (i,j) in G.nodes():\n",
    "    bx = int(i/3) * 3\n",
    "    by = int(j/3) * 3\n",
    "    for x in range(bx, bx+3):\n",
    "        for y in range(by, by+3):\n",
    "            if ((i,j) != (x,y)):\n",
    "                G.add_edge((i,j), (x,y))\n",
    "\n",
    "D = nx.coloring.greedy_color(G, strategy=nx.coloring.strategy_saturation_largest_first)\n",
    "\n",
    "colorset = {}\n",
    "colorset = set()\n",
    "sudoku = []\n",
    "index = 0\n",
    "\n",
    "print()\n",
    "print(\"Solved Sudoku\")\n",
    "for v in G.nodes():\n",
    "    colorset.add(D[v])\n",
    "    sudoku.append(D[v]+1)\n",
    "    index += 1\n",
    "    if (index == 9):\n",
    "        print(sudoku)\n",
    "        sudoku.clear()\n",
    "        index=0"
   ]
  }
 ],
 "metadata": {
  "kernelspec": {
   "display_name": "Python 3",
   "language": "python",
   "name": "python3"
  },
  "language_info": {
   "codemirror_mode": {
    "name": "ipython",
    "version": 3
   },
   "file_extension": ".py",
   "mimetype": "text/x-python",
   "name": "python",
   "nbconvert_exporter": "python",
   "pygments_lexer": "ipython3",
   "version": "3.6.9"
  }
 },
 "nbformat": 4,
 "nbformat_minor": 5
}
